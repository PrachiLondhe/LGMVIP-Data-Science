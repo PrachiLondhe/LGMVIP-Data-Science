{
 "cells": [
  {
   "cell_type": "markdown",
   "id": "de3b632c",
   "metadata": {},
   "source": [
    "#LGM-VIP task2\n",
    "Prachi Londhe"
   ]
  },
  {
   "cell_type": "code",
   "execution_count": 1,
   "id": "9249b526",
   "metadata": {},
   "outputs": [],
   "source": [
    "#import libraries\n",
    "import numpy as np\n",
    "import matplotlib.pyplot as plt\n",
    "import pandas as pd\n",
    "from sklearn.preprocessing import MinMaxScaler\n",
    "from tensorflow.python.keras.models import Sequential\n",
    "from tensorflow.python.keras.layers import Dense\n",
    "from tensorflow.python.keras.layers import LSTM\n",
    "import math\n",
    "from sklearn.metrics import mean_squared_error"
   ]
  },
  {
   "cell_type": "code",
   "execution_count": 2,
   "id": "2b892f6d",
   "metadata": {},
   "outputs": [],
   "source": [
    "#load data\n",
    "data=pd.read_csv('TataGlobal.csv')"
   ]
  },
  {
   "cell_type": "code",
   "execution_count": 3,
   "id": "5d6f7125",
   "metadata": {},
   "outputs": [
    {
     "data": {
      "text/html": [
       "<div>\n",
       "<style scoped>\n",
       "    .dataframe tbody tr th:only-of-type {\n",
       "        vertical-align: middle;\n",
       "    }\n",
       "\n",
       "    .dataframe tbody tr th {\n",
       "        vertical-align: top;\n",
       "    }\n",
       "\n",
       "    .dataframe thead th {\n",
       "        text-align: right;\n",
       "    }\n",
       "</style>\n",
       "<table border=\"1\" class=\"dataframe\">\n",
       "  <thead>\n",
       "    <tr style=\"text-align: right;\">\n",
       "      <th></th>\n",
       "      <th>Date</th>\n",
       "      <th>Open</th>\n",
       "      <th>High</th>\n",
       "      <th>Low</th>\n",
       "      <th>Last</th>\n",
       "      <th>Close</th>\n",
       "      <th>Total Trade Quantity</th>\n",
       "      <th>Turnover (Lacs)</th>\n",
       "    </tr>\n",
       "  </thead>\n",
       "  <tbody>\n",
       "    <tr>\n",
       "      <th>0</th>\n",
       "      <td>2018-09-28</td>\n",
       "      <td>234.05</td>\n",
       "      <td>235.95</td>\n",
       "      <td>230.20</td>\n",
       "      <td>233.50</td>\n",
       "      <td>233.75</td>\n",
       "      <td>3069914</td>\n",
       "      <td>7162.35</td>\n",
       "    </tr>\n",
       "    <tr>\n",
       "      <th>1</th>\n",
       "      <td>2018-09-27</td>\n",
       "      <td>234.55</td>\n",
       "      <td>236.80</td>\n",
       "      <td>231.10</td>\n",
       "      <td>233.80</td>\n",
       "      <td>233.25</td>\n",
       "      <td>5082859</td>\n",
       "      <td>11859.95</td>\n",
       "    </tr>\n",
       "    <tr>\n",
       "      <th>2</th>\n",
       "      <td>2018-09-26</td>\n",
       "      <td>240.00</td>\n",
       "      <td>240.00</td>\n",
       "      <td>232.50</td>\n",
       "      <td>235.00</td>\n",
       "      <td>234.25</td>\n",
       "      <td>2240909</td>\n",
       "      <td>5248.60</td>\n",
       "    </tr>\n",
       "    <tr>\n",
       "      <th>3</th>\n",
       "      <td>2018-09-25</td>\n",
       "      <td>233.30</td>\n",
       "      <td>236.75</td>\n",
       "      <td>232.00</td>\n",
       "      <td>236.25</td>\n",
       "      <td>236.10</td>\n",
       "      <td>2349368</td>\n",
       "      <td>5503.90</td>\n",
       "    </tr>\n",
       "    <tr>\n",
       "      <th>4</th>\n",
       "      <td>2018-09-24</td>\n",
       "      <td>233.55</td>\n",
       "      <td>239.20</td>\n",
       "      <td>230.75</td>\n",
       "      <td>234.00</td>\n",
       "      <td>233.30</td>\n",
       "      <td>3423509</td>\n",
       "      <td>7999.55</td>\n",
       "    </tr>\n",
       "  </tbody>\n",
       "</table>\n",
       "</div>"
      ],
      "text/plain": [
       "         Date    Open    High     Low    Last   Close  Total Trade Quantity  \\\n",
       "0  2018-09-28  234.05  235.95  230.20  233.50  233.75               3069914   \n",
       "1  2018-09-27  234.55  236.80  231.10  233.80  233.25               5082859   \n",
       "2  2018-09-26  240.00  240.00  232.50  235.00  234.25               2240909   \n",
       "3  2018-09-25  233.30  236.75  232.00  236.25  236.10               2349368   \n",
       "4  2018-09-24  233.55  239.20  230.75  234.00  233.30               3423509   \n",
       "\n",
       "   Turnover (Lacs)  \n",
       "0          7162.35  \n",
       "1         11859.95  \n",
       "2          5248.60  \n",
       "3          5503.90  \n",
       "4          7999.55  "
      ]
     },
     "execution_count": 3,
     "metadata": {},
     "output_type": "execute_result"
    }
   ],
   "source": [
    "data.head()"
   ]
  },
  {
   "cell_type": "code",
   "execution_count": 4,
   "id": "040b12dc",
   "metadata": {},
   "outputs": [
    {
     "data": {
      "text/html": [
       "<div>\n",
       "<style scoped>\n",
       "    .dataframe tbody tr th:only-of-type {\n",
       "        vertical-align: middle;\n",
       "    }\n",
       "\n",
       "    .dataframe tbody tr th {\n",
       "        vertical-align: top;\n",
       "    }\n",
       "\n",
       "    .dataframe thead th {\n",
       "        text-align: right;\n",
       "    }\n",
       "</style>\n",
       "<table border=\"1\" class=\"dataframe\">\n",
       "  <thead>\n",
       "    <tr style=\"text-align: right;\">\n",
       "      <th></th>\n",
       "      <th>Date</th>\n",
       "      <th>Open</th>\n",
       "      <th>High</th>\n",
       "      <th>Low</th>\n",
       "      <th>Last</th>\n",
       "      <th>Close</th>\n",
       "      <th>Total Trade Quantity</th>\n",
       "      <th>Turnover (Lacs)</th>\n",
       "    </tr>\n",
       "  </thead>\n",
       "  <tbody>\n",
       "    <tr>\n",
       "      <th>2030</th>\n",
       "      <td>2010-07-27</td>\n",
       "      <td>117.6</td>\n",
       "      <td>119.50</td>\n",
       "      <td>112.00</td>\n",
       "      <td>118.80</td>\n",
       "      <td>118.65</td>\n",
       "      <td>586100</td>\n",
       "      <td>694.98</td>\n",
       "    </tr>\n",
       "    <tr>\n",
       "      <th>2031</th>\n",
       "      <td>2010-07-26</td>\n",
       "      <td>120.1</td>\n",
       "      <td>121.00</td>\n",
       "      <td>117.10</td>\n",
       "      <td>117.10</td>\n",
       "      <td>117.60</td>\n",
       "      <td>658440</td>\n",
       "      <td>780.01</td>\n",
       "    </tr>\n",
       "    <tr>\n",
       "      <th>2032</th>\n",
       "      <td>2010-07-23</td>\n",
       "      <td>121.8</td>\n",
       "      <td>121.95</td>\n",
       "      <td>120.25</td>\n",
       "      <td>120.35</td>\n",
       "      <td>120.65</td>\n",
       "      <td>281312</td>\n",
       "      <td>340.31</td>\n",
       "    </tr>\n",
       "    <tr>\n",
       "      <th>2033</th>\n",
       "      <td>2010-07-22</td>\n",
       "      <td>120.3</td>\n",
       "      <td>122.00</td>\n",
       "      <td>120.25</td>\n",
       "      <td>120.75</td>\n",
       "      <td>120.90</td>\n",
       "      <td>293312</td>\n",
       "      <td>355.17</td>\n",
       "    </tr>\n",
       "    <tr>\n",
       "      <th>2034</th>\n",
       "      <td>2010-07-21</td>\n",
       "      <td>122.1</td>\n",
       "      <td>123.00</td>\n",
       "      <td>121.05</td>\n",
       "      <td>121.10</td>\n",
       "      <td>121.55</td>\n",
       "      <td>658666</td>\n",
       "      <td>803.56</td>\n",
       "    </tr>\n",
       "  </tbody>\n",
       "</table>\n",
       "</div>"
      ],
      "text/plain": [
       "            Date   Open    High     Low    Last   Close  Total Trade Quantity  \\\n",
       "2030  2010-07-27  117.6  119.50  112.00  118.80  118.65                586100   \n",
       "2031  2010-07-26  120.1  121.00  117.10  117.10  117.60                658440   \n",
       "2032  2010-07-23  121.8  121.95  120.25  120.35  120.65                281312   \n",
       "2033  2010-07-22  120.3  122.00  120.25  120.75  120.90                293312   \n",
       "2034  2010-07-21  122.1  123.00  121.05  121.10  121.55                658666   \n",
       "\n",
       "      Turnover (Lacs)  \n",
       "2030           694.98  \n",
       "2031           780.01  \n",
       "2032           340.31  \n",
       "2033           355.17  \n",
       "2034           803.56  "
      ]
     },
     "execution_count": 4,
     "metadata": {},
     "output_type": "execute_result"
    }
   ],
   "source": [
    "data.tail()"
   ]
  },
  {
   "cell_type": "code",
   "execution_count": 5,
   "id": "8e5e72c9",
   "metadata": {},
   "outputs": [],
   "source": [
    "df1=data.reset_index()['Close']"
   ]
  },
  {
   "cell_type": "code",
   "execution_count": 6,
   "id": "d52e3a5b",
   "metadata": {},
   "outputs": [
    {
     "data": {
      "text/plain": [
       "(2035,)"
      ]
     },
     "execution_count": 6,
     "metadata": {},
     "output_type": "execute_result"
    }
   ],
   "source": [
    "df1.shape"
   ]
  },
  {
   "cell_type": "code",
   "execution_count": 7,
   "id": "8a060195",
   "metadata": {},
   "outputs": [
    {
     "data": {
      "text/plain": [
       "[<matplotlib.lines.Line2D at 0x2170b695000>]"
      ]
     },
     "execution_count": 7,
     "metadata": {},
     "output_type": "execute_result"
    },
    {
     "data": {
      "image/png": "[encoded data removed]",
      "text/plain": [
       "<Figure size 432x288 with 1 Axes>"
      ]
     },
     "metadata": {
      "needs_background": "light"
     },
     "output_type": "display_data"
    }
   ],
   "source": [
    "plt.plot(df1)"
   ]
  },
  {
   "cell_type": "code",
   "execution_count": 8,
   "id": "e9492b29",
   "metadata": {},
   "outputs": [],
   "source": [
    "scaler = MinMaxScaler(feature_range =(0,1))\n",
    "df1 = scaler.fit_transform(np.array(df1).reshape(-1,1))"
   ]
  },
  {
   "cell_type": "code",
   "execution_count": 9,
   "id": "8bfc3881",
   "metadata": {},
   "outputs": [
    {
     "data": {
      "text/plain": [
       "(2035, 1)"
      ]
     },
     "execution_count": 9,
     "metadata": {},
     "output_type": "execute_result"
    }
   ],
   "source": [
    "df1.shape"
   ]
  },
  {
   "cell_type": "code",
   "execution_count": 10,
   "id": "c26c77bd",
   "metadata": {},
   "outputs": [
    {
     "data": {
      "text/plain": [
       "array([[0.62418301],\n",
       "       [0.62214052],\n",
       "       [0.62622549],\n",
       "       ...,\n",
       "       [0.1621732 ],\n",
       "       [0.16319444],\n",
       "       [0.16584967]])"
      ]
     },
     "execution_count": 10,
     "metadata": {},
     "output_type": "execute_result"
    }
   ],
   "source": [
    "df1"
   ]
  },
  {
   "cell_type": "code",
   "execution_count": 11,
   "id": "b12dfe7a",
   "metadata": {},
   "outputs": [],
   "source": [
    "#Split the data into train and test split\n",
    "training_size = int(len(df1)* 0.75)\n",
    "test_size =len(df1) - training_size\n",
    "train_data, test_data = df1[0:training_size,:], df1[training_size:len(df1),:1]"
   ]
  },
  {
   "cell_type": "code",
   "execution_count": 12,
   "id": "ff9b83fd",
   "metadata": {},
   "outputs": [],
   "source": [
    "#data preprocessing\n",
    "def create_dataset(dataset, time_step = 1):\n",
    "    dataX, dataY = [], []\n",
    "    for i in range(len(dataset) - time_step - 1):\n",
    "        a = dataset[i:(i+time_step), 0]\n",
    "        dataX.append(a)\n",
    "        dataY.append(dataset[i+time_step, 0])\n",
    "        return np.array(dataX), np.array(dataY)"
   ]
  },
  {
   "cell_type": "code",
   "execution_count": 13,
   "id": "32e754b7",
   "metadata": {},
   "outputs": [],
   "source": [
    "time_step = 100\n",
    "x_train, y_train = create_dataset(train_data, time_step)\n",
    "x_test, y_test = create_dataset(test_data, time_step)"
   ]
  },
  {
   "cell_type": "code",
   "execution_count": 14,
   "id": "9a8c9ba7",
   "metadata": {},
   "outputs": [],
   "source": [
    "#Reshape the input to be [samples, time steps, features] which is the requirement of LSTM\n",
    "x_train = x_train.reshape(x_train.shape[0], x_train.shape[1], 1)\n",
    "x_test = x_test.reshape(x_test.shape[0], x_test.shape[1], 1)"
   ]
  },
  {
   "cell_type": "code",
   "execution_count": 15,
   "id": "675ceddb",
   "metadata": {},
   "outputs": [],
   "source": [
    "#Create the LSTM Model\n",
    "model = Sequential()\n",
    "model.add(LSTM(50, return_sequences = True, input_shape = (100,1)))\n",
    "model.add(LSTM(50, return_sequences = True))\n",
    "model.add(LSTM(50))\n",
    "model.add(Dense(1))\n",
    "model.compile(loss = 'mean_squared_error', optimizer ='adam')"
   ]
  },
  {
   "cell_type": "code",
   "execution_count": 16,
   "id": "547838e4",
   "metadata": {},
   "outputs": [
    {
     "name": "stdout",
     "output_type": "stream",
     "text": [
      "Model: \"sequential\"\n",
      "_________________________________________________________________\n",
      "Layer (type)                 Output Shape              Param #   \n",
      "=================================================================\n",
      "lstm (LSTM)                  (None, 100, 50)           10400     \n",
      "_________________________________________________________________\n",
      "lstm_1 (LSTM)                (None, 100, 50)           20200     \n",
      "_________________________________________________________________\n",
      "lstm_2 (LSTM)                (None, 50)                20200     \n",
      "_________________________________________________________________\n",
      "dense (Dense)                (None, 1)                 51        \n",
      "=================================================================\n",
      "Total params: 50,851\n",
      "Trainable params: 50,851\n",
      "Non-trainable params: 0\n",
      "_________________________________________________________________\n"
     ]
    }
   ],
   "source": [
    "model.summary()"
   ]
  },
  {
   "cell_type": "code",
   "execution_count": 17,
   "id": "2ed39862",
   "metadata": {},
   "outputs": [
    {
     "name": "stdout",
     "output_type": "stream",
     "text": [
      "Epoch 1/100\n",
      "1/1 [==============================] - 30s 30s/step - loss: 0.8122 - val_loss: 0.0131\n",
      "Epoch 2/100\n",
      "1/1 [==============================] - 1s 663ms/step - loss: 0.6935 - val_loss: 0.0080\n",
      "Epoch 3/100\n",
      "1/1 [==============================] - 1s 549ms/step - loss: 0.5826 - val_loss: 0.0038\n",
      "Epoch 4/100\n",
      "1/1 [==============================] - 1s 577ms/step - loss: 0.4713 - val_loss: 8.5380e-04\n",
      "Epoch 5/100\n",
      "1/1 [==============================] - 1s 539ms/step - loss: 0.3549 - val_loss: 1.1259e-04\n",
      "Epoch 6/100\n",
      "1/1 [==============================] - 1s 568ms/step - loss: 0.2333 - val_loss: 0.0038\n",
      "Epoch 7/100\n",
      "1/1 [==============================] - 1s 518ms/step - loss: 0.1145 - val_loss: 0.0163\n",
      "Epoch 8/100\n",
      "1/1 [==============================] - 1s 583ms/step - loss: 0.0226 - val_loss: 0.0455\n",
      "Epoch 9/100\n",
      "1/1 [==============================] - 1s 549ms/step - loss: 0.0073 - val_loss: 0.0885\n",
      "Epoch 10/100\n",
      "1/1 [==============================] - 1s 573ms/step - loss: 0.0867 - val_loss: 0.1084\n",
      "Epoch 11/100\n",
      "1/1 [==============================] - 1s 529ms/step - loss: 0.1187 - val_loss: 0.1013\n",
      "Epoch 12/100\n",
      "1/1 [==============================] - 1s 557ms/step - loss: 0.0862 - val_loss: 0.0820\n",
      "Epoch 13/100\n",
      "1/1 [==============================] - 1s 517ms/step - loss: 0.0391 - val_loss: 0.0621\n",
      "Epoch 14/100\n",
      "1/1 [==============================] - 1s 553ms/step - loss: 0.0085 - val_loss: 0.0463\n",
      "Epoch 15/100\n",
      "1/1 [==============================] - 1s 517ms/step - loss: 6.7995e-06 - val_loss: 0.0355\n",
      "Epoch 16/100\n",
      "1/1 [==============================] - 1s 563ms/step - loss: 0.0061 - val_loss: 0.0288\n",
      "Epoch 17/100\n",
      "1/1 [==============================] - 1s 517ms/step - loss: 0.0176 - val_loss: 0.0252\n",
      "Epoch 18/100\n",
      "1/1 [==============================] - 1s 547ms/step - loss: 0.0279 - val_loss: 0.0238\n",
      "Epoch 19/100\n",
      "1/1 [==============================] - 1s 516ms/step - loss: 0.0339 - val_loss: 0.0244\n",
      "Epoch 20/100\n",
      "1/1 [==============================] - 1s 557ms/step - loss: 0.0348 - val_loss: 0.0266\n",
      "Epoch 21/100\n",
      "1/1 [==============================] - 1s 517ms/step - loss: 0.0312 - val_loss: 0.0304\n",
      "Epoch 22/100\n",
      "1/1 [==============================] - 1s 546ms/step - loss: 0.0244 - val_loss: 0.0359\n",
      "Epoch 23/100\n",
      "1/1 [==============================] - 1s 516ms/step - loss: 0.0163 - val_loss: 0.0432\n",
      "Epoch 24/100\n",
      "1/1 [==============================] - 1s 555ms/step - loss: 0.0086 - val_loss: 0.0521\n",
      "Epoch 25/100\n",
      "1/1 [==============================] - 1s 516ms/step - loss: 0.0029 - val_loss: 0.0623\n",
      "Epoch 26/100\n",
      "1/1 [==============================] - 1s 601ms/step - loss: 1.8322e-04 - val_loss: 0.0731\n",
      "Epoch 27/100\n",
      "1/1 [==============================] - 1s 529ms/step - loss: 6.1644e-04 - val_loss: 0.0835\n",
      "Epoch 28/100\n",
      "1/1 [==============================] - 1s 566ms/step - loss: 0.0034 - val_loss: 0.0923\n",
      "Epoch 29/100\n",
      "1/1 [==============================] - 1s 540ms/step - loss: 0.0069 - val_loss: 0.0982\n",
      "Epoch 30/100\n",
      "1/1 [==============================] - 1s 589ms/step - loss: 0.0096 - val_loss: 0.1006\n",
      "Epoch 31/100\n",
      "1/1 [==============================] - 1s 511ms/step - loss: 0.0104 - val_loss: 0.0996\n",
      "Epoch 32/100\n",
      "1/1 [==============================] - 1s 554ms/step - loss: 0.0091 - val_loss: 0.0958\n",
      "Epoch 33/100\n",
      "1/1 [==============================] - 1s 518ms/step - loss: 0.0065 - val_loss: 0.0902\n",
      "Epoch 34/100\n",
      "1/1 [==============================] - 1s 563ms/step - loss: 0.0036 - val_loss: 0.0839\n",
      "Epoch 35/100\n",
      "1/1 [==============================] - 1s 504ms/step - loss: 0.0013 - val_loss: 0.0776\n",
      "Epoch 36/100\n",
      "1/1 [==============================] - 1s 533ms/step - loss: 1.5884e-04 - val_loss: 0.0720\n",
      "Epoch 37/100\n",
      "1/1 [==============================] - 1s 536ms/step - loss: 9.1101e-05 - val_loss: 0.0674\n",
      "Epoch 38/100\n",
      "1/1 [==============================] - 1s 533ms/step - loss: 8.0773e-04 - val_loss: 0.0640\n",
      "Epoch 39/100\n",
      "1/1 [==============================] - 1s 516ms/step - loss: 0.0019 - val_loss: 0.0619\n",
      "Epoch 40/100\n",
      "1/1 [==============================] - 1s 537ms/step - loss: 0.0028 - val_loss: 0.0611\n",
      "Epoch 41/100\n",
      "1/1 [==============================] - 1s 536ms/step - loss: 0.0033 - val_loss: 0.0614\n",
      "Epoch 42/100\n",
      "1/1 [==============================] - 1s 540ms/step - loss: 0.0033 - val_loss: 0.0627\n",
      "Epoch 43/100\n",
      "1/1 [==============================] - 1s 519ms/step - loss: 0.0029 - val_loss: 0.0650\n",
      "Epoch 44/100\n",
      "1/1 [==============================] - 1s 569ms/step - loss: 0.0021 - val_loss: 0.0682\n",
      "Epoch 45/100\n",
      "1/1 [==============================] - 1s 529ms/step - loss: 0.0012 - val_loss: 0.0719\n",
      "Epoch 46/100\n",
      "1/1 [==============================] - 1s 518ms/step - loss: 5.0546e-04 - val_loss: 0.0759\n",
      "Epoch 47/100\n",
      "1/1 [==============================] - 1s 535ms/step - loss: 8.2139e-05 - val_loss: 0.0800\n",
      "Epoch 48/100\n",
      "1/1 [==============================] - 1s 525ms/step - loss: 1.6131e-05 - val_loss: 0.0837\n",
      "Epoch 49/100\n",
      "1/1 [==============================] - 1s 527ms/step - loss: 2.4505e-04 - val_loss: 0.0868\n",
      "Epoch 50/100\n",
      "1/1 [==============================] - 1s 640ms/step - loss: 6.1976e-04 - val_loss: 0.0890\n",
      "Epoch 51/100\n",
      "1/1 [==============================] - 1s 621ms/step - loss: 9.6355e-04 - val_loss: 0.0901\n",
      "Epoch 52/100\n",
      "1/1 [==============================] - 1s 694ms/step - loss: 0.0011 - val_loss: 0.0900\n",
      "Epoch 53/100\n",
      "1/1 [==============================] - 1s 712ms/step - loss: 0.0011 - val_loss: 0.0890\n",
      "Epoch 54/100\n",
      "1/1 [==============================] - 1s 697ms/step - loss: 8.5278e-04 - val_loss: 0.0872\n",
      "Epoch 55/100\n",
      "1/1 [==============================] - 1s 748ms/step - loss: 5.2986e-04 - val_loss: 0.0849\n",
      "Epoch 56/100\n",
      "1/1 [==============================] - 1s 587ms/step - loss: 2.3356e-04 - val_loss: 0.0825\n",
      "Epoch 57/100\n",
      "1/1 [==============================] - 1s 630ms/step - loss: 4.7530e-05 - val_loss: 0.0802\n",
      "Epoch 58/100\n",
      "1/1 [==============================] - 1s 546ms/step - loss: 1.6665e-06 - val_loss: 0.0781\n",
      "Epoch 59/100\n",
      "1/1 [==============================] - 1s 552ms/step - loss: 7.2920e-05 - val_loss: 0.0765\n",
      "Epoch 60/100\n",
      "1/1 [==============================] - 1s 651ms/step - loss: 2.0418e-04 - val_loss: 0.0755\n",
      "Epoch 61/100\n",
      "1/1 [==============================] - 1s 780ms/step - loss: 3.3033e-04 - val_loss: 0.0751\n",
      "Epoch 62/100\n",
      "1/1 [==============================] - 1s 827ms/step - loss: 4.0119e-04 - val_loss: 0.0752\n",
      "Epoch 63/100\n",
      "1/1 [==============================] - 1s 563ms/step - loss: 3.9497e-04 - val_loss: 0.0758\n",
      "Epoch 64/100\n",
      "1/1 [==============================] - 1s 604ms/step - loss: 3.2028e-04 - val_loss: 0.0769\n",
      "Epoch 65/100\n",
      "1/1 [==============================] - 1s 598ms/step - loss: 2.0815e-04 - val_loss: 0.0783\n",
      "Epoch 66/100\n",
      "1/1 [==============================] - 1s 564ms/step - loss: 9.8081e-05 - val_loss: 0.0798\n",
      "Epoch 67/100\n",
      "1/1 [==============================] - 1s 621ms/step - loss: 2.3342e-05 - val_loss: 0.0814\n",
      "Epoch 68/100\n",
      "1/1 [==============================] - 1s 566ms/step - loss: 6.7970e-08 - val_loss: 0.0829\n",
      "Epoch 69/100\n",
      "1/1 [==============================] - 1s 630ms/step - loss: 2.3722e-05 - val_loss: 0.0840\n",
      "Epoch 70/100\n",
      "1/1 [==============================] - 1s 665ms/step - loss: 7.3481e-05 - val_loss: 0.0849\n",
      "Epoch 71/100\n",
      "1/1 [==============================] - 1s 563ms/step - loss: 1.2229e-04 - val_loss: 0.0852\n",
      "Epoch 72/100\n",
      "1/1 [==============================] - 1s 502ms/step - loss: 1.4814e-04 - val_loss: 0.0852\n",
      "Epoch 73/100\n",
      "1/1 [==============================] - 1s 655ms/step - loss: 1.4186e-04 - val_loss: 0.0848\n",
      "Epoch 74/100\n",
      "1/1 [==============================] - 1s 592ms/step - loss: 1.0868e-04 - val_loss: 0.0840\n",
      "Epoch 75/100\n",
      "1/1 [==============================] - 1s 886ms/step - loss: 6.3756e-05 - val_loss: 0.0831\n",
      "Epoch 76/100\n",
      "1/1 [==============================] - 1s 554ms/step - loss: 2.4383e-05 - val_loss: 0.0822\n",
      "Epoch 77/100\n",
      "1/1 [==============================] - 1s 707ms/step - loss: 2.7720e-06 - val_loss: 0.0812\n",
      "Epoch 78/100\n",
      "1/1 [==============================] - 1s 743ms/step - loss: 2.1507e-06 - val_loss: 0.0805\n",
      "Epoch 79/100\n",
      "1/1 [==============================] - 1s 686ms/step - loss: 1.7143e-05 - val_loss: 0.0799\n",
      "Epoch 80/100\n",
      "1/1 [==============================] - 1s 699ms/step - loss: 3.7442e-05 - val_loss: 0.0796\n",
      "Epoch 81/100\n",
      "1/1 [==============================] - 1s 884ms/step - loss: 5.2692e-05 - val_loss: 0.0795\n",
      "Epoch 82/100\n",
      "1/1 [==============================] - 1s 640ms/step - loss: 5.6506e-05 - val_loss: 0.0797\n",
      "Epoch 83/100\n",
      "1/1 [==============================] - 1s 607ms/step - loss: 4.8227e-05 - val_loss: 0.0801\n",
      "Epoch 84/100\n",
      "1/1 [==============================] - 1s 643ms/step - loss: 3.2212e-05 - val_loss: 0.0806\n",
      "Epoch 85/100\n",
      "1/1 [==============================] - 1s 702ms/step - loss: 1.5259e-05 - val_loss: 0.0812\n",
      "Epoch 86/100\n",
      "1/1 [==============================] - 1s 518ms/step - loss: 3.5033e-06 - val_loss: 0.0819\n",
      "Epoch 87/100\n",
      "1/1 [==============================] - 1s 553ms/step - loss: 3.3006e-08 - val_loss: 0.0824\n",
      "Epoch 88/100\n",
      "1/1 [==============================] - 1s 546ms/step - loss: 4.0953e-06 - val_loss: 0.0829\n",
      "Epoch 89/100\n",
      "1/1 [==============================] - 1s 587ms/step - loss: 1.2005e-05 - val_loss: 0.0832\n",
      "Epoch 90/100\n",
      "1/1 [==============================] - 1s 554ms/step - loss: 1.9143e-05 - val_loss: 0.0833\n",
      "Epoch 91/100\n",
      "1/1 [==============================] - 1s 612ms/step - loss: 2.2060e-05 - val_loss: 0.0832\n",
      "Epoch 92/100\n",
      "1/1 [==============================] - 1s 666ms/step - loss: 1.9757e-05 - val_loss: 0.0830\n",
      "Epoch 93/100\n",
      "1/1 [==============================] - 1s 778ms/step - loss: 1.3692e-05 - val_loss: 0.0827\n",
      "Epoch 94/100\n",
      "1/1 [==============================] - 1s 579ms/step - loss: 6.7353e-06 - val_loss: 0.0823\n",
      "Epoch 95/100\n",
      "1/1 [==============================] - 1s 587ms/step - loss: 1.6706e-06 - val_loss: 0.0819\n",
      "Epoch 96/100\n",
      "1/1 [==============================] - 1s 764ms/step - loss: 1.3525e-09 - val_loss: 0.0815\n",
      "Epoch 97/100\n",
      "1/1 [==============================] - 1s 565ms/step - loss: 1.5226e-06 - val_loss: 0.0812\n",
      "Epoch 98/100\n",
      "1/1 [==============================] - 1s 634ms/step - loss: 4.7095e-06 - val_loss: 0.0811\n",
      "Epoch 99/100\n",
      "1/1 [==============================] - 1s 549ms/step - loss: 7.6133e-06 - val_loss: 0.0810\n",
      "Epoch 100/100\n",
      "1/1 [==============================] - 1s 566ms/step - loss: 8.7826e-06 - val_loss: 0.0811\n"
     ]
    },
    {
     "data": {
      "text/plain": [
       "<tensorflow.python.keras.callbacks.History at 0x2170b224c40>"
      ]
     },
     "execution_count": 17,
     "metadata": {},
     "output_type": "execute_result"
    }
   ],
   "source": [
    "model.fit(x_train, y_train, validation_data = (x_test, y_test), epochs = 100, batch_size = 64, verbose = 1)"
   ]
  },
  {
   "cell_type": "code",
   "execution_count": 18,
   "id": "3e94323a",
   "metadata": {},
   "outputs": [],
   "source": [
    "#Lets predict and check performance metrics\n",
    "train_predict = model.predict(x_train)\n",
    "test_predict = model.predict(x_test)"
   ]
  },
  {
   "cell_type": "code",
   "execution_count": 19,
   "id": "8cd628c7",
   "metadata": {},
   "outputs": [],
   "source": [
    "#Transform back to original form\n",
    "train_predict = scaler.inverse_transform(train_predict)\n",
    "test_predict = scaler.inverse_transform(test_predict)"
   ]
  },
  {
   "cell_type": "code",
   "execution_count": 20,
   "id": "d866d94f",
   "metadata": {},
   "outputs": [
    {
     "data": {
      "text/plain": [
       "292.6450855529386"
      ]
     },
     "execution_count": 20,
     "metadata": {},
     "output_type": "execute_result"
    }
   ],
   "source": [
    "#Calculate RMSE performamce metrics\n",
    "math.sqrt(mean_squared_error(y_train, train_predict))"
   ]
  },
  {
   "cell_type": "code",
   "execution_count": 21,
   "id": "14fc9b13",
   "metadata": {},
   "outputs": [],
   "source": [
    "#Plotting \n",
    "#Shift train prediction for plotting\n",
    "look_back = 100\n",
    "trainPredictPlot = np.empty_like(df1)\n",
    "trainPredictPlot[:,:] = np.nan\n",
    "trainPredictPlot[look_back:len(train_predict) + look_back, :] = train_predict"
   ]
  },
  {
   "cell_type": "code",
   "execution_count": 22,
   "id": "0ccf803a",
   "metadata": {},
   "outputs": [],
   "source": [
    "#Shift test prediction for plotting\n",
    "testPredictPlot = np.empty_like(df1)\n",
    "testPredictPlot[:,:] = np.nan\n",
    "testPredictPlot[len(train_predict) + (look_back * 2)+1:len(df1) - 1, :] = test_predict"
   ]
  },
  {
   "cell_type": "code",
   "execution_count": 23,
   "id": "96168b19",
   "metadata": {},
   "outputs": [
    {
     "data": {
      "image/png": "[encoded data removed]",
      "text/plain": [
       "<Figure size 432x288 with 1 Axes>"
      ]
     },
     "metadata": {
      "needs_background": "light"
     },
     "output_type": "display_data"
    }
   ],
   "source": [
    "#Plot baseline and predictions\n",
    "plt.plot(scaler.inverse_transform(df1))\n",
    "plt.plot(trainPredictPlot)\n",
    "plt.plot(testPredictPlot)\n",
    "plt.show()"
   ]
  },
  {
   "cell_type": "code",
   "execution_count": null,
   "id": "d6e179b6",
   "metadata": {},
   "outputs": [],
   "source": []
  }
 ],
 "metadata": {
  "kernelspec": {
   "display_name": "Python 3 (ipykernel)",
   "language": "python",
   "name": "python3"
  },
  "language_info": {
   "codemirror_mode": {
    "name": "ipython",
    "version": 3
   },
   "file_extension": ".py",
   "mimetype": "text/x-python",
   "name": "python",
   "nbconvert_exporter": "python",
   "pygments_lexer": "ipython3",
   "version": "3.10.2"
  }
 },
 "nbformat": 4,
 "nbformat_minor": 5
}
